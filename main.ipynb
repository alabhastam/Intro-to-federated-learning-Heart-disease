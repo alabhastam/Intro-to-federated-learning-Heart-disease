{
 "cells": [
  {
   "cell_type": "code",
   "execution_count": 1,
   "id": "0cd3aec1",
   "metadata": {
    "_cell_guid": "b1076dfc-b9ad-4769-8c92-a6c4dae69d19",
    "_uuid": "8f2839f25d086af736a60e9eeb907d3b93b6e0e5",
    "execution": {
     "iopub.execute_input": "2025-09-16T15:51:23.891317Z",
     "iopub.status.busy": "2025-09-16T15:51:23.890960Z",
     "iopub.status.idle": "2025-09-16T15:51:25.882637Z",
     "shell.execute_reply": "2025-09-16T15:51:25.881459Z"
    },
    "papermill": {
     "duration": 1.996904,
     "end_time": "2025-09-16T15:51:25.884240",
     "exception": false,
     "start_time": "2025-09-16T15:51:23.887336",
     "status": "completed"
    },
    "tags": []
   },
   "outputs": [
    {
     "name": "stdout",
     "output_type": "stream",
     "text": [
      "/kaggle/input/heart-disease-dataset/heart.csv\n"
     ]
    }
   ],
   "source": [
    "# This Python 3 environment comes with many helpful analytics libraries installed\n",
    "# It is defined by the kaggle/python Docker image: https://github.com/kaggle/docker-python\n",
    "# For example, here's several helpful packages to load\n",
    "\n",
    "import numpy as np # linear algebra\n",
    "import pandas as pd # data processing, CSV file I/O (e.g. pd.read_csv)\n",
    "\n",
    "# Input data files are available in the read-only \"../input/\" directory\n",
    "# For example, running this (by clicking run or pressing Shift+Enter) will list all files under the input directory\n",
    "\n",
    "import os\n",
    "for dirname, _, filenames in os.walk('/kaggle/input'):\n",
    "    for filename in filenames:\n",
    "        print(os.path.join(dirname, filename))\n",
    "\n",
    "# You can write up to 20GB to the current directory (/kaggle/working/) that gets preserved as output when you create a version using \"Save & Run All\" \n",
    "# You can also write temporary files to /kaggle/temp/, but they won't be saved outside of the current session"
   ]
  },
  {
   "cell_type": "markdown",
   "id": "248b10fe",
   "metadata": {
    "papermill": {
     "duration": 0.001452,
     "end_time": "2025-09-16T15:51:25.887710",
     "exception": false,
     "start_time": "2025-09-16T15:51:25.886258",
     "status": "completed"
    },
    "tags": []
   },
   "source": [
    "<div style=\"background-color:green;color:#EAEAEA;font-family:Arial,Helvetica,sans-serif;padding:20px;border-radius:8px;line-height:1.6\">\n",
    "  <h1 style=\"color:#4CAF50;text-align:center;\">📚 Introduction to Federated Learning</h1>\n",
    "  \n",
    "  <h2 style=\"color:#FFD700;\">1. What is Federated Learning?</h2>\n",
    "  <p>\n",
    "    Federated Learning (FL) is a <b>decentralized machine learning approach</b> where multiple devices or organizations collaboratively train a model without sharing their raw data. Instead of sending data to a central server, each participant trains a local model and only shares model updates.\n",
    "  </p>\n",
    "  <p>\n",
    "    Think of it as many chefs cooking in their own kitchens, but sharing only their <i>recipe improvements</i> — not the secret ingredients.\n",
    "  </p>\n",
    "  \n",
    "  <h2 style=\"color:#FFD700;\">2. Why is Federated Learning Important?</h2>\n",
    "  <ul>\n",
    "    <li>✅ <b>Privacy Preservation:</b> Sensitive data never leaves the local device.</li>\n",
    "    <li>✅ <b>Reduced Data Transfer:</b> Only model parameters/gradients are exchanged.</li>\n",
    "    <li>✅ <b>Regulatory Compliance:</b> Helps meet GDPR, HIPAA, and similar regulations.</li>\n",
    "    <li>✅ <b>Edge Computing:</b> Utilizes data and compute resources at the source.</li>\n",
    "  </ul>\n",
    "  \n",
    "  <h2 style=\"color:#FFD700;\">3. How Does It Work?</h2>\n",
    "  <ol>\n",
    "    <li>📤 <b>Server sends initial model</b> to all participants.</li>\n",
    "    <li>🖥️ <b>Local training</b> happens on each participant's private data.</li>\n",
    "    <li>📥 <b>Local model updates</b> are sent back to the server.</li>\n",
    "    <li>🔄 <b>Aggregation</b> (e.g., FedAvg algorithm) combines updates into a global model.</li>\n",
    "    <li>🔁 Repeat until the model converges.</li>\n",
    "  </ol>\n",
    "  \n",
    "  <h2 style=\"color:#FFD700;\">4. Real-World Example</h2>\n",
    "  <p>\n",
    "    Google’s <b>Gboard keyboard</b> uses Federated Learning to improve text prediction:\n",
    "    your typed messages stay on your device, while only the learned model changes are sent\n",
    "    to improve the shared model.\n",
    "  </p>\n",
    "  \n",
    "  <h2 style=\"color:#FFD700;\">5. Key Challenges</h2>\n",
    "  <ul>\n",
    "    <li>⚠️ <b>Non-IID Data:</b> Data distributions differ across participants.</li>\n",
    "    <li>⚠️ <b>Network Reliability:</b> Communication delays affect training speed.</li>\n",
    "    <li>⚠️ <b>Security:</b> Model updates can still leak sensitive patterns.</li>\n",
    "    <li>⚠️ <b>Client Coordination:</b> Handling dropped or slow clients is tricky.</li>\n",
    "  </ul>\n",
    "  \n",
    "  <h2 style=\"color:#FFD700;\">6. Common Techniques</h2>\n",
    "  <ul>\n",
    "    <li>🔹 <b>FedAvg:</b> Weighted average of client models.</li>\n",
    "    <li>🔹 <b>Secure Aggregation:</b> Protects updates during transfer.</li>\n",
    "    <li>🔹 <b>Differential Privacy:</b> Adds noise to updates for privacy.</li>\n",
    "    <li>🔹 <b>Model Personalization:</b> Tailors global models to local needs.</li>\n",
    "  </ul>\n",
    "</div>\n"
   ]
  }
 ],
 "metadata": {
  "kaggle": {
   "accelerator": "none",
   "dataSources": [
    {
     "datasetId": 216167,
     "sourceId": 477177,
     "sourceType": "datasetVersion"
    }
   ],
   "dockerImageVersionId": 31089,
   "isGpuEnabled": false,
   "isInternetEnabled": true,
   "language": "python",
   "sourceType": "notebook"
  },
  "kernelspec": {
   "display_name": "Python 3",
   "language": "python",
   "name": "python3"
  },
  "language_info": {
   "codemirror_mode": {
    "name": "ipython",
    "version": 3
   },
   "file_extension": ".py",
   "mimetype": "text/x-python",
   "name": "python",
   "nbconvert_exporter": "python",
   "pygments_lexer": "ipython3",
   "version": "3.11.13"
  },
  "papermill": {
   "default_parameters": {},
   "duration": 8.030581,
   "end_time": "2025-09-16T15:51:26.408574",
   "environment_variables": {},
   "exception": null,
   "input_path": "__notebook__.ipynb",
   "output_path": "__notebook__.ipynb",
   "parameters": {},
   "start_time": "2025-09-16T15:51:18.377993",
   "version": "2.6.0"
  }
 },
 "nbformat": 4,
 "nbformat_minor": 5
}
